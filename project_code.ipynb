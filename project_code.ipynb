{
 "cells": [
  {
   "cell_type": "markdown",
   "metadata": {},
   "source": [
    "## Background\n",
    "The objective of this project is to construct a model which can predict a patient's mortality rate and length of stay in an ICU, given their biological information."
   ]
  },
  {
   "cell_type": "code",
   "execution_count": 10,
   "metadata": {},
   "outputs": [],
   "source": [
    "from __future__ import print_function\n",
    "import numpy as np\n",
    "import pandas as pd\n",
    "import os\n",
    "import glob\n",
    "import math\n",
    "\n",
    "from sklearn import svm\n",
    "from sklearn.decomposition import PCA"
   ]
  },
  {
   "cell_type": "code",
   "execution_count": 15,
   "metadata": {},
   "outputs": [],
   "source": [
    "# import data\n",
    "static_variables = ['RecordID', 'Age', 'Gender', 'Height', 'ICUType']\n",
    "def get_data_from_files(path):\n",
    "    all_files = glob.glob(os.path.join(path, \"*.txt\"))\n",
    "    \n",
    "    df_fold = pd.DataFrame()\n",
    "    \n",
    "    for f in all_files:\n",
    "        df_from_file = pd.read_csv(f)\n",
    "        df_static = df_from_file[df_from_file['Parameter'].isin(static_variables)]\n",
    "        df_temporal = df_from_file[~df_from_file['Parameter'].isin(static_variables)]\n",
    "        df_static = df_static.drop('Time', axis=1)\n",
    "        \n",
    "        df_min = df_temporal.groupby(df_temporal['Parameter']).aggregate({'Value': 'min'})\n",
    "        df_max = df_temporal.groupby(df_temporal['Parameter']).aggregate({'Value': 'max'})\n",
    "        df_mean = df_temporal.groupby(df_temporal['Parameter']).aggregate({'Value': 'mean'})\n",
    "        \n",
    "        df_min = df_min.reset_index(level=0)\n",
    "        df_max = df_max.reset_index(level=0)\n",
    "        df_mean = df_mean.reset_index(level=0)\n",
    "        \n",
    "        df_min['Parameter'] = df_min['Parameter'] + '_min'\n",
    "        df_max['Parameter'] = df_max['Parameter'] + '_max'\n",
    "        df_mean['Parameter'] = df_mean['Parameter'] + '_mean'\n",
    "        \n",
    "        df_pivot_min = pd.pivot_table(df_min, values=\"Value\", columns=\"Parameter\")\n",
    "        df_pivot_max = pd.pivot_table(df_max, values=\"Value\", columns=\"Parameter\")\n",
    "        df_pivot_mean = pd.pivot_table(df_mean, values=\"Value\", columns=\"Parameter\")\n",
    "        \n",
    "        df_pivot_static = pd.pivot_table(df_static, values=\"Value\", columns=\"Parameter\")\n",
    "        \n",
    "        df_concat = pd.concat([df_pivot_static, df_pivot_min, df_pivot_max, df_pivot_mean], axis=1, sort=False)\n",
    "        df_fold = df_fold.append(df_concat)\n",
    "        if len(df_fold)%500 == 0:\n",
    "            print(\"Imported {}\".format(len(df_fold)))\n",
    "    \n",
    "    return df_fold\n",
    "\n",
    "def get_results():\n",
    "    return pd.read_csv(\"results.txt\")"
   ]
  },
  {
   "cell_type": "code",
   "execution_count": 16,
   "metadata": {},
   "outputs": [
    {
     "name": "stdout",
     "output_type": "stream",
     "text": [
      "Imported 500\n",
      "Imported 1000\n",
      "Imported 1500\n",
      "Imported 2000\n",
      "Imported 2500\n",
      "Imported 3000\n",
      "Imported 3500\n",
      "Imported 4000\n"
     ]
    }
   ],
   "source": [
    "df_all = get_data_from_files(\"./data\")"
   ]
  },
  {
   "cell_type": "code",
   "execution_count": 19,
   "metadata": {},
   "outputs": [
    {
     "name": "stdout",
     "output_type": "stream",
     "text": [
      "(4000, 116)\n"
     ]
    },
    {
     "data": {
      "text/plain": [
       "' May need to replace negative values in height and weight with -1 '"
      ]
     },
     "execution_count": 19,
     "metadata": {},
     "output_type": "execute_result"
    }
   ],
   "source": [
    "print(df_all.shape)\n",
    "\"\"\" May need to replace negative values in height and weight with -1 \"\"\""
   ]
  },
  {
   "cell_type": "code",
   "execution_count": 20,
   "metadata": {},
   "outputs": [
    {
     "name": "stdout",
     "output_type": "stream",
     "text": [
      "      RecordID  SAPS-I  SOFA  Length_of_stay  Survival  In-hospital_death\n",
      "0       132539       6     1               5        -1                  0\n",
      "1       132540      16     8               8        -1                  0\n",
      "2       132541      21    11              19        -1                  0\n",
      "3       132543       7     1               9       575                  0\n",
      "4       132545      17     2               4       918                  0\n",
      "5       132547      14    11               6      1637                  0\n",
      "6       132548      14     4               9        -1                  0\n",
      "7       132551      19     8               6         5                  1\n",
      "8       132554      11     0              17        38                  0\n",
      "9       132555      14     6               8        -1                  0\n",
      "10      132556      15     2              13        -1                  0\n",
      "11      132567      13     7               7        -1                  0\n",
      "12      132568       7     2              22        -1                  0\n",
      "13      132570      14     7              13        -1                  0\n",
      "14      132573      12     3               8       740                  0\n",
      "15      132575      25     9              11        -1                  0\n",
      "16      132577      18     6              10      1438                  0\n",
      "17      132582       9     2               6       103                  0\n",
      "18      132584      28    16              12      1751                  0\n",
      "19      132585      18     7               5        -1                  0\n",
      "20      132588      -1     7              29        27                  1\n",
      "21      132590      17    11               7      1419                  0\n",
      "22      132591      10     2              13        30                  0\n",
      "23      132592      15     3               3        -1                  0\n",
      "24      132595      -1     2              14        -1                  0\n",
      "25      132597      -1     5              14        49                  0\n",
      "26      132598      22     5               5         4                  1\n",
      "27      132599      10    12              76        -1                  0\n",
      "28      132601      16    11              28        -1                  0\n",
      "29      132602      13     1              13         8                  1\n",
      "...        ...     ...   ...             ...       ...                ...\n",
      "3970    142591      13     5              13        -1                  0\n",
      "3971    142595      15     3              15       132                  0\n",
      "3972    142601      22    12               7        -1                  0\n",
      "3973    142603      13     7               8         7                  1\n",
      "3974    142607       9     2               4        -1                  0\n",
      "3975    142609      14    -1              -1        -1                  0\n",
      "3976    142612      16     9              10        31                  0\n",
      "3977    142618      21     8               7         4                  1\n",
      "3978    142621      15     4               4       911                  0\n",
      "3979    142626      16     4               9         8                  1\n",
      "3980    142634      16     3              14        -1                  0\n",
      "3981    142635      15     7              22        -1                  0\n",
      "3982    142637      23    13              10        -1                  0\n",
      "3983    142638      19     7               5         4                  1\n",
      "3984    142640      11     7               6        -1                  0\n",
      "3985    142641      10     1               3        -1                  0\n",
      "3986    142646       6     1              14        -1                  0\n",
      "3987    142649      12     2               6      1256                  0\n",
      "3988    142653      21     6               8        -1                  0\n",
      "3989    142654      23    10               6        -1                  0\n",
      "3990    142655       9     8               4        -1                  0\n",
      "3991    142659      15     6               7      1370                  0\n",
      "3992    142661       6     4              11        22                  0\n",
      "3993    142662      19     8               7        78                  0\n",
      "3994    142664      13     8              10       537                  0\n",
      "3995    142665      19     7              10       336                  0\n",
      "3996    142667       8     2               3        -1                  0\n",
      "3997    142670       8     5              11        -1                  0\n",
      "3998    142671      22    10               8         7                  1\n",
      "3999    142673      25    11               7        -1                  0\n",
      "\n",
      "[4000 rows x 6 columns]\n"
     ]
    }
   ],
   "source": [
    "print(get_results())"
   ]
  },
  {
   "cell_type": "code",
   "execution_count": 21,
   "metadata": {},
   "outputs": [],
   "source": [
    "### normalizer\n",
    "def norm(df):\n",
    "    for col in df.columns:\n",
    "        if not col in static_variables:\n",
    "            df[col] -= df[col].mean()\n",
    "            df[col] /= np.sqrt(np.var(df[col])) if np.var(df[col]) != 0 else 1\n",
    "        # print(df[col])\n",
    "    return df\n",
    "\n",
    "\n",
    "### k-fold split function - only works for k|df.shape[0]\n",
    "def kfold_split(df, k=4):\n",
    "    chunk = int(df.shape[0]/k)\n",
    "    chunks = []\n",
    "    for i in range(k):\n",
    "        chunks.append(df.iloc[chunk*i: chunk*(i+1)])\n",
    "    # print([i.shape for i in chunks])\n",
    "    return chunks\n",
    "\n"
   ]
  },
  {
   "cell_type": "code",
   "execution_count": 22,
   "metadata": {
    "scrolled": true
   },
   "outputs": [],
   "source": [
    "df_norm = norm(df_all)\n",
    "df_norm.dropna(thresh=2800, inplace=True, axis=1)\n",
    "# print(df_norm.shape)\n"
   ]
  },
  {
   "cell_type": "code",
   "execution_count": 23,
   "metadata": {},
   "outputs": [],
   "source": [
    "df_norm['RecordID'].astype(int)\n",
    "df_norm.set_index('RecordID', inplace=True)"
   ]
  },
  {
   "cell_type": "code",
   "execution_count": 24,
   "metadata": {},
   "outputs": [
    {
     "name": "stdout",
     "output_type": "stream",
     "text": [
      "(4000, 67)\n"
     ]
    }
   ],
   "source": [
    "print(df_norm.shape)"
   ]
  },
  {
   "cell_type": "markdown",
   "metadata": {},
   "source": [
    "## Binary Classification - Patient Mortality\n",
    "We first use the predictors in a support vector classifier to determine if they die."
   ]
  },
  {
   "cell_type": "code",
   "execution_count": 25,
   "metadata": {},
   "outputs": [],
   "source": [
    "X = df_norm.sort_index()\n",
    "y = get_results()\n",
    "y.set_index('RecordID', inplace=True)\n",
    "y = (y['Survival'] != -1).astype(int).sort_index()"
   ]
  },
  {
   "cell_type": "code",
   "execution_count": 26,
   "metadata": {},
   "outputs": [
    {
     "name": "stdout",
     "output_type": "stream",
     "text": [
      "(3000, 67)\n",
      "(3000, 1)\n"
     ]
    }
   ],
   "source": [
    "# perform split\n",
    "k = 4\n",
    "X_folds = kfold_split(X, k)\n",
    "y_folds = kfold_split(y, k)\n",
    "VALIDATION_FOLD = 3\n",
    "\n",
    "X_train = pd.DataFrame()\n",
    "y_train = pd.DataFrame()\n",
    "\n",
    "X_test= X_folds[VALIDATION_FOLD]\n",
    "X_test = np.nan_to_num(X_test)\n",
    "y_test = y_folds[VALIDATION_FOLD]\n",
    "\n",
    "for i in range(k):\n",
    "    if i == VALIDATION_FOLD:\n",
    "        continue\n",
    "    X_train = X_train.append(X_folds[i])\n",
    "    y_train = pd.concat([y_train, y_folds[i]], axis=0)\n",
    "\n",
    "X_train = np.nan_to_num(X_train)\n",
    "y_train[0] = y_train[0].astype(int)\n",
    "y_train.rename(columns={0:\"survives\"}, inplace=True)\n",
    "print(X_train.shape)\n",
    "print(y_train.shape)"
   ]
  },
  {
   "cell_type": "code",
   "execution_count": 27,
   "metadata": {},
   "outputs": [
    {
     "name": "stderr",
     "output_type": "stream",
     "text": [
      "C:\\Users\\jeffx\\Anaconda3\\lib\\site-packages\\sklearn\\utils\\validation.py:724: DataConversionWarning: A column-vector y was passed when a 1d array was expected. Please change the shape of y to (n_samples, ), for example using ravel().\n",
      "  y = column_or_1d(y, warn=True)\n"
     ]
    },
    {
     "data": {
      "text/plain": [
       "SVC(C=1.0, cache_size=200, class_weight=None, coef0=0.0,\n",
       "    decision_function_shape='ovr', degree=3, gamma='auto_deprecated',\n",
       "    kernel='linear', max_iter=-1, probability=False, random_state=None,\n",
       "    shrinking=True, tol=0.001, verbose=False)"
      ]
     },
     "execution_count": 27,
     "metadata": {},
     "output_type": "execute_result"
    }
   ],
   "source": [
    "clf = svm.SVC(kernel='linear', C=1.0)\n",
    "clf.fit(X_train, y_train)"
   ]
  },
  {
   "cell_type": "code",
   "execution_count": 28,
   "metadata": {},
   "outputs": [
    {
     "data": {
      "text/plain": [
       "0.734"
      ]
     },
     "execution_count": 28,
     "metadata": {},
     "output_type": "execute_result"
    }
   ],
   "source": [
    "clf.score(X_test, y_test)"
   ]
  },
  {
   "cell_type": "markdown",
   "metadata": {},
   "source": [
    "Cross Validation Results:\n",
    "\n",
    "**Validation Fold**: Accuracy\n",
    "\n",
    "0: 0.713\n",
    "\n",
    "1: 0.742\n",
    "\n",
    "2: 0.718\n",
    "\n",
    "3: 0.734"
   ]
  }
 ],
 "metadata": {
  "kernelspec": {
   "display_name": "Python 3",
   "language": "python",
   "name": "python3"
  },
  "language_info": {
   "codemirror_mode": {
    "name": "ipython",
    "version": 3
   },
   "file_extension": ".py",
   "mimetype": "text/x-python",
   "name": "python",
   "nbconvert_exporter": "python",
   "pygments_lexer": "ipython3",
   "version": "3.7.3"
  }
 },
 "nbformat": 4,
 "nbformat_minor": 2
}
